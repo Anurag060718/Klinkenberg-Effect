{
  "nbformat": 4,
  "nbformat_minor": 0,
  "metadata": {
    "colab": {
      "provenance": []
    },
    "kernelspec": {
      "name": "python3",
      "display_name": "Python 3"
    },
    "language_info": {
      "name": "python"
    }
  },
  "cells": [
    {
      "cell_type": "markdown",
      "source": [
        "# The Klinkenberg Effect\n",
        "1. k(g) = k(l) + c(1/pm)\n",
        "\n",
        "kg = measured gas permeability\n",
        "\n",
        "pm = mean pressure\n",
        "\n",
        "kL = equivalent liquid permeability, i.e., absolute permeability, k\n",
        "\n",
        "c = slope of the line\n",
        "\n",
        "2. c = b.k(l) = 6.9 kL^(-0.36)\n",
        "\n",
        "3. 6.9*kL^(0.64) + pm*kL - pm*kg = 0\n",
        "\n",
        "# Procedure/Algorithm\n",
        "\n",
        "Equation 3 can be used to calculate the absolute permeability when\n",
        "only one gas permeability measurement (kg) of a core sample is made at\n",
        "pm. This nonlinear equation can be solved iteratively by using the Newton-Raphson iterative methods. The proposed solution method can be\n",
        "conveniently written as\n",
        "\n",
        "k(i+1) = k(i) - f(ki)/f'(ki)\n",
        "\n",
        "where\n",
        "ki = initial guess of the absolute permeability, md\n",
        "ki+1 = new permeability value to be used for the next iteration\n",
        "i = iteration level\n",
        "f(ki) = Equation 3\n",
        "f'(ki) = first-derivative of Equation 3\n",
        "\n",
        "4. f'(ki) = 4.416 ki^(-0.36) + pm\n",
        "\n",
        "The iterative procedure is repeated until convergence is achieved when\n",
        "f(ki) approaches zero or when no changes in the calculated values of ki\n",
        "are observed.\n",
        "\n",
        "(Courtsey- Tarek Ahmed)\n"
      ],
      "metadata": {
        "id": "rM13JAFAX52H"
      }
    },
    {
      "cell_type": "markdown",
      "source": [
        "# Example : -\n",
        "\n",
        "The permeability of a core plug is measured by air. Only one measurement is made at a mean pressure of 2.152 psi. The air permeability is\n",
        "46.6 md. Estimate the absolute permeability of the core sample. Compare\n",
        "the result with ***the actual absolute permeability of 23.66 md***."
      ],
      "metadata": {
        "id": "I9ExfYTdYr2R"
      }
    },
    {
      "cell_type": "code",
      "source": [
        "k = float(input(\"\\nEnter your first guess of absolute permeability kl: \"))\n",
        "\n",
        "\n",
        "#f(k= kl) = 6.9kL^(0.64) + pmkL - pm*kg = 0\n",
        "# f'(k) = 4.416 ki^(-0.36) + pm\n",
        "pm  = float(input(\"\\nEnter Mean Pr. Pm: \") )\n",
        "\n",
        "kg = float(input(\"\\nEnter K(air) = kg: \"))\n",
        "\n",
        "while abs(6.9*(k**0.64) + pm*k - pm*kg) > 0.01:\n",
        "  k = k - (6.9*(k**0.64) + pm*k - pm*kg)/(4.416*(k**(-0.36)) + pm)\n",
        "\n",
        "print(f\"The final value of Permeability K is : {k}\")\n"
      ],
      "metadata": {
        "colab": {
          "base_uri": "https://localhost:8080/"
        },
        "id": "BJm-2UkyYRwh",
        "outputId": "f818474c-452f-4f91-aa9a-b9295c786d18"
      },
      "execution_count": 1,
      "outputs": [
        {
          "output_type": "stream",
          "name": "stdout",
          "text": [
            "\n",
            "Enter your first guess of absolute permeability kl: 23\n",
            "\n",
            "Enter Mean Pr. Pm: 2.152\n",
            "\n",
            "Enter K(air) = kg: 46.6\n",
            "The final value of Permeability K is : 22.848930883508068\n"
          ]
        }
      ]
    },
    {
      "cell_type": "code",
      "source": [],
      "metadata": {
        "id": "StyWnestZ-59"
      },
      "execution_count": null,
      "outputs": []
    }
  ]
}